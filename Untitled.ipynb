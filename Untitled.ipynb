{
 "cells": [
  {
   "cell_type": "code",
   "execution_count": 2,
   "metadata": {},
   "outputs": [
    {
     "ename": "SyntaxError",
     "evalue": "invalid syntax (<ipython-input-2-b627bd06aa93>, line 1)",
     "output_type": "error",
     "traceback": [
      "\u001b[1;36m  File \u001b[1;32m\"<ipython-input-2-b627bd06aa93>\"\u001b[1;36m, line \u001b[1;32m1\u001b[0m\n\u001b[1;33m    2753번\u001b[0m\n\u001b[1;37m        ^\u001b[0m\n\u001b[1;31mSyntaxError\u001b[0m\u001b[1;31m:\u001b[0m invalid syntax\n"
     ]
    }
   ],
   "source": [
    "2753번"
   ]
  },
  {
   "cell_type": "code",
   "execution_count": 20,
   "metadata": {},
   "outputs": [
    {
     "name": "stdout",
     "output_type": "stream",
     "text": [
      "2000\n",
      "True\n"
     ]
    }
   ],
   "source": [
    "year = int(input())\n",
    "y = ((year%4 ==0) and (year%100 !=0)) or ((year%4 ==0) and (year%400 ==0))\n",
    "print(y)\n",
    "# if  :\n",
    "#     print('1')\n",
    "# else :\n",
    "#     print('0')"
   ]
  },
  {
   "cell_type": "code",
   "execution_count": 21,
   "metadata": {},
   "outputs": [
    {
     "name": "stdout",
     "output_type": "stream",
     "text": [
      "\n"
     ]
    },
    {
     "ename": "ValueError",
     "evalue": "invalid literal for int() with base 10: ''",
     "output_type": "error",
     "traceback": [
      "\u001b[1;31m---------------------------------------------------------------------------\u001b[0m",
      "\u001b[1;31mValueError\u001b[0m                                Traceback (most recent call last)",
      "\u001b[1;32m<ipython-input-21-88ea90c433c0>\u001b[0m in \u001b[0;36m<module>\u001b[1;34m\u001b[0m\n\u001b[1;32m----> 1\u001b[1;33m \u001b[0myear\u001b[0m \u001b[1;33m=\u001b[0m  \u001b[0mint\u001b[0m\u001b[1;33m(\u001b[0m\u001b[0minput\u001b[0m\u001b[1;33m(\u001b[0m\u001b[1;33m)\u001b[0m\u001b[1;33m)\u001b[0m\u001b[1;33m\u001b[0m\u001b[1;33m\u001b[0m\u001b[0m\n\u001b[0m\u001b[0;32m      2\u001b[0m \u001b[1;33m\u001b[0m\u001b[0m\n\u001b[0;32m      3\u001b[0m \u001b[1;32mif\u001b[0m \u001b[0myear\u001b[0m \u001b[1;33m%\u001b[0m \u001b[1;36m4\u001b[0m \u001b[1;33m==\u001b[0m\u001b[1;36m0\u001b[0m \u001b[1;32mand\u001b[0m \u001b[0myear\u001b[0m \u001b[1;33m%\u001b[0m \u001b[1;36m100\u001b[0m \u001b[1;33m!=\u001b[0m \u001b[1;36m0\u001b[0m\u001b[1;33m:\u001b[0m\u001b[1;33m\u001b[0m\u001b[1;33m\u001b[0m\u001b[0m\n\u001b[0;32m      4\u001b[0m     \u001b[0mprint\u001b[0m\u001b[1;33m(\u001b[0m\u001b[1;34m\"1\"\u001b[0m\u001b[1;33m)\u001b[0m\u001b[1;33m\u001b[0m\u001b[1;33m\u001b[0m\u001b[0m\n\u001b[0;32m      5\u001b[0m \u001b[1;32melif\u001b[0m \u001b[0myear\u001b[0m \u001b[1;33m%\u001b[0m \u001b[1;36m4\u001b[0m \u001b[1;33m==\u001b[0m\u001b[1;36m0\u001b[0m \u001b[1;32mand\u001b[0m \u001b[0myear\u001b[0m \u001b[1;33m%\u001b[0m \u001b[1;36m400\u001b[0m \u001b[1;33m==\u001b[0m \u001b[1;36m0\u001b[0m\u001b[1;33m:\u001b[0m\u001b[1;33m\u001b[0m\u001b[1;33m\u001b[0m\u001b[0m\n",
      "\u001b[1;31mValueError\u001b[0m: invalid literal for int() with base 10: ''"
     ]
    }
   ],
   "source": [
    "year =  int(input())\n",
    "\n",
    "if year % 4 ==0 and year % 100 != 0:\n",
    "    print(\"1\")\n",
    "elif year % 4 ==0 and year % 400 == 0:\n",
    "    print(\"1\")\n",
    "else:\n",
    "    print(\"0\")\n",
    "    "
   ]
  },
  {
   "cell_type": "code",
   "execution_count": null,
   "metadata": {},
   "outputs": [],
   "source": [
    "numbers = input()\n",
    "numbers_list = list(map(int,numbers.split()))\n",
    "\n",
    "a = numbers_list[0]\n",
    "b = numbers_list[1]\n",
    "c = numbers_list[2]\n",
    "\n",
    "if max(a,b,c) == a:\n",
    "      \n",
    "    if b >= c:\n",
    "        print(b)\n",
    "    else:\n",
    "        print(c)\n",
    "print(a, b, c)\n",
    "# elif max(a,b,c) == b:\n",
    "#     print(a,c)\n",
    "#     if a >= c:\n",
    "#         print(a)\n",
    "#     else:\n",
    "#         print(c)\n",
    "# elif max(a,b,c) == c:\n",
    "#     print(a,b)\n",
    "#     if a >= c:\n",
    "#         print(a)\n",
    "#     else:\n",
    "#         print(b)\n",
    "\n",
    "        \n"
   ]
  },
  {
   "cell_type": "code",
   "execution_count": null,
   "metadata": {},
   "outputs": [],
   "source": [
    "number = input()\n",
    "\n",
    "num = number.split('')\n",
    "print(num)\n",
    "\n",
    "num1 = int(num[0])\n",
    "num2 = int(num[1])\n",
    "num3 = int(num[2])\n",
    "\n",
    "if num1 <= num2 <= num3:\n",
    "    print(num2)\n",
    "elif num1 <= num3 <= num2:\n",
    "    print(num3)\n",
    "~~~~~~~~~~"
   ]
  },
  {
   "cell_type": "code",
   "execution_count": null,
   "metadata": {},
   "outputs": [],
   "source": [
    "#number = input()\n",
    "number = [10 ,20 ,30]\n",
    "\n",
    "number.sort()\n",
    "print(number[1])"
   ]
  },
  {
   "cell_type": "code",
   "execution_count": null,
   "metadata": {},
   "outputs": [],
   "source": [
    "#number = input()\n",
    "number = [10 ,20 ,30]\n",
    "\n",
    "a = number[0]\n",
    "b = number[1]\n",
    "c = number[2]\n",
    "\n",
    "maximum = max(number)\n",
    "minimum = min(number)\n",
    "\n",
    "max_index = number.find(maximum)\n",
    "number.pop(maximum)\n",
    "number.pop(minimum)\n",
    "\n",
    "print(number[0])"
   ]
  }
 ],
 "metadata": {
  "kernelspec": {
   "display_name": "Python 3",
   "language": "python",
   "name": "python3"
  },
  "language_info": {
   "codemirror_mode": {
    "name": "ipython",
    "version": 3
   },
   "file_extension": ".py",
   "mimetype": "text/x-python",
   "name": "python",
   "nbconvert_exporter": "python",
   "pygments_lexer": "ipython3",
   "version": "3.7.3"
  }
 },
 "nbformat": 4,
 "nbformat_minor": 2
}
