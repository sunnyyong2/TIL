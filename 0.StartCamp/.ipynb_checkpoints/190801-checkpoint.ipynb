{
 "cells": [
  {
   "cell_type": "code",
   "execution_count": null,
   "metadata": {},
   "outputs": [],
   "source": [
    "#1번\n",
    "\n",
    "def positive_sum(*numbers):\n",
    "    sum = 0\n",
    "    for number in numbers:\n",
    "        if number > 0:\n",
    "            sum += number \n",
    "    return sum"
   ]
  },
  {
   "cell_type": "code",
   "execution_count": 1,
   "metadata": {},
   "outputs": [
    {
     "ename": "SyntaxError",
     "evalue": "invalid syntax (<ipython-input-1-efed8f27ce1c>, line 1)",
     "output_type": "error",
     "traceback": [
      "\u001b[1;36m  File \u001b[1;32m\"<ipython-input-1-efed8f27ce1c>\"\u001b[1;36m, line \u001b[1;32m1\u001b[0m\n\u001b[1;33m    3번\u001b[0m\n\u001b[1;37m     ^\u001b[0m\n\u001b[1;31mSyntaxError\u001b[0m\u001b[1;31m:\u001b[0m invalid syntax\n"
     ]
    }
   ],
   "source": [
    "#3번\n",
    "\n",
    "# 파일명을 변경하지 마시오.\n",
    "# 아래에 클래스 Point와 Circle을 선언하시오.\n",
    "\n",
    "class Point:\n",
    "    def __init__(self,x,y):\n",
    "        self.x = x \n",
    "        self.y = y\n",
    "\n",
    "    def __str__(self):\n",
    "        return(f'=> Point:{self.x},{self.y}')\n",
    "\n",
    "# p1 = Point(3,5)\n",
    "# print(p1)\n",
    "\n",
    "class Circle(Point):\n",
    "    def __init__(self,center,r):\n",
    "        self.center = center\n",
    "        self.r = r\n",
    "\n",
    "    def get_area(self):\n",
    "        return(3.14 * (self.r**2))\n",
    "\n",
    "    def get_perimeter(self):\n",
    "        return(3.14 * 2 * (self.r))\n",
    "\n",
    "    def get_center(self):\n",
    "        return  f'{self.center}'\n",
    "\n",
    "    def __str__(self):\n",
    "        return(f'Circle:{self.center}, r:{self.r}')\n",
    "\n",
    "\n",
    "\n",
    "\n",
    "\n",
    "# 실행 결과를 확인하기 위한 코드입니다. 수정하지 마시오.\n",
    "if __name__ == '__main__':\n",
    "    p1 = Point(0, 0)\n",
    "    c1 = Circle(p1, 3)\n",
    "    print(c1.get_area())\n",
    "    print(c1.get_perimeter())\n",
    "    print(c1.get_center())\n",
    "    print(c1)\n",
    "    p2 = Point(4, 5)\n",
    "    c2 = Circle(p2, 1)\n",
    "    print(c2.get_area())\n",
    "    print(c2.get_perimeter())\n",
    "    print(c2.get_center())\n",
    "    print(c2)"
   ]
  },
  {
   "cell_type": "code",
   "execution_count": null,
   "metadata": {},
   "outputs": [],
   "source": []
  }
 ],
 "metadata": {
  "kernelspec": {
   "display_name": "Python 3",
   "language": "python",
   "name": "python3"
  },
  "language_info": {
   "codemirror_mode": {
    "name": "ipython",
    "version": 3
   },
   "file_extension": ".py",
   "mimetype": "text/x-python",
   "name": "python",
   "nbconvert_exporter": "python",
   "pygments_lexer": "ipython3",
   "version": "3.7.3"
  }
 },
 "nbformat": 4,
 "nbformat_minor": 2
}
